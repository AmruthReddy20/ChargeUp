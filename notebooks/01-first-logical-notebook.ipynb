{
 "cells": [
  {
   "cell_type": "markdown",
   "metadata": {},
   "source": [
    "# Web Scraping and Data Analysis \n",
    "## --- Game of Thrones Ratings and # Votes on IMDB\n",
    "\n",
    "\n",
    "* Reference: https://www.dataquest.io/blog/web-scraping-beautifulsoup/"
   ]
  },
  {
   "cell_type": "markdown",
   "metadata": {},
   "source": [
    "### Scrape data from one episode in Season 1, to learn how Beautiful Soup works\n",
    "#### 1, Get the html code from source page."
   ]
  },
  {
   "cell_type": "code",
   "execution_count": 1,
   "metadata": {
    "collapsed": false,
    "scrolled": true
   },
   "outputs": [
    {
     "name": "stdout",
     "output_type": "stream",
     "text": [
      "\n",
      " \n",
      "\n",
      "\n",
      "\n",
      "\n",
      "\n",
      "\n",
      "\n",
      "\n",
      "\n",
      "\n",
      "\n",
      "<!DOCTYPE html>\n",
      "<html\n",
      "    xmlns:og=\"http://ogp.me/ns#\"\n",
      "    xmlns:fb=\"http://www.facebook.com/2008/fbml\">\n",
      "    <head>\n",
      "         \n",
      "        <meta charset=\"utf-8\">\n",
      "        <meta http-equiv=\"X-UA-Compatible\" content=\"IE=edge\">\n",
      "\n",
      "    <meta name=\"apple-itunes-app\" content=\"app-id=342792525, app-argument=imdb:///title/tt0944947?src=mdot\">\n",
      "\n",
      "\n",
      "\n",
      "        <script type=\"text/javascript\">var IMDbTimer={starttime: new Date().getTime(),pt:'java'};</script>\n",
      "\n",
      "<script>\n",
      "    if (typeof uet == 'function') {\n",
      " \n"
     ]
    }
   ],
   "source": [
    "from requests import get\n",
    "url = \"https://www.imdb.com/title/tt0944947/episodes?season=1\"\n",
    "response = get(url)\n",
    "print(response.text[:500])"
   ]
  },
  {
   "cell_type": "code",
   "execution_count": 2,
   "metadata": {
    "collapsed": false
   },
   "outputs": [
    {
     "data": {
      "text/plain": [
       "bs4.BeautifulSoup"
      ]
     },
     "execution_count": 2,
     "metadata": {},
     "output_type": "execute_result"
    }
   ],
   "source": [
    "from bs4 import BeautifulSoup\n",
    "html_soup = BeautifulSoup(response.text, 'html.parser')\n",
    "type(html_soup)"
   ]
  },
  {
   "cell_type": "markdown",
   "metadata": {},
   "source": [
    "#### 2, get the blocks that contain information of each episode from the webpage"
   ]
  },
  {
   "cell_type": "code",
   "execution_count": 3,
   "metadata": {
    "collapsed": false
   },
   "outputs": [
    {
     "name": "stdout",
     "output_type": "stream",
     "text": [
      "<class 'bs4.element.ResultSet'>\n",
      "10\n"
     ]
    }
   ],
   "source": [
    "movie_containers = html_soup.find_all('div', class_ = ('list_item odd','list_item even'))\n",
    "print(type(movie_containers))\n",
    "print(len(movie_containers))"
   ]
  },
  {
   "cell_type": "markdown",
   "metadata": {},
   "source": [
    "#### 3, Get one episode from the list of episodes"
   ]
  },
  {
   "cell_type": "code",
   "execution_count": 4,
   "metadata": {
    "collapsed": false
   },
   "outputs": [],
   "source": [
    "ep1 = movie_containers[0]"
   ]
  },
  {
   "cell_type": "markdown",
   "metadata": {},
   "source": [
    "#### 4, Get Episode title"
   ]
  },
  {
   "cell_type": "code",
   "execution_count": 5,
   "metadata": {
    "collapsed": false,
    "scrolled": true
   },
   "outputs": [
    {
     "data": {
      "text/plain": [
       "'Winter Is Coming'"
      ]
     },
     "execution_count": 5,
     "metadata": {},
     "output_type": "execute_result"
    }
   ],
   "source": [
    "ep1.strong.text"
   ]
  },
  {
   "cell_type": "markdown",
   "metadata": {},
   "source": [
    "#### 5, Get star rating:"
   ]
  },
  {
   "cell_type": "code",
   "execution_count": 6,
   "metadata": {
    "collapsed": false
   },
   "outputs": [
    {
     "data": {
      "text/plain": [
       "9.1"
      ]
     },
     "execution_count": 6,
     "metadata": {},
     "output_type": "execute_result"
    }
   ],
   "source": [
    "float(ep1.find('span', class_ = 'ipl-rating-star__rating').text)"
   ]
  },
  {
   "cell_type": "markdown",
   "metadata": {},
   "source": [
    "#### 6, Get number of total votes:"
   ]
  },
  {
   "cell_type": "code",
   "execution_count": 7,
   "metadata": {
    "collapsed": false
   },
   "outputs": [],
   "source": [
    "vote=ep1.find('span', class_ = 'ipl-rating-star__total-votes').text"
   ]
  },
  {
   "cell_type": "code",
   "execution_count": 8,
   "metadata": {
    "collapsed": false
   },
   "outputs": [
    {
     "data": {
      "text/plain": [
       "35640"
      ]
     },
     "execution_count": 8,
     "metadata": {},
     "output_type": "execute_result"
    }
   ],
   "source": [
    "int(vote.replace('(', '').replace(')','').replace(',',''))"
   ]
  },
  {
   "cell_type": "markdown",
   "metadata": {},
   "source": [
    "### Integrating all the information:"
   ]
  },
  {
   "cell_type": "code",
   "execution_count": 9,
   "metadata": {
    "collapsed": false
   },
   "outputs": [],
   "source": [
    "titles = []\n",
    "seasons = [i+1 for i in range(8)]\n",
    "ratings = []\n",
    "votes = []\n",
    "ep_season = []"
   ]
  },
  {
   "cell_type": "code",
   "execution_count": 10,
   "metadata": {
    "collapsed": false
   },
   "outputs": [],
   "source": [
    "for season in seasons:\n",
    "    url = \"https://www.imdb.com/title/tt0944947/episodes?season=\"+str(season)\n",
    "    response = get(url)\n",
    "    html_soup = BeautifulSoup(response.text, 'html.parser')\n",
    "    movie_containers = html_soup.find_all('div', class_ = ('list_item odd','list_item even'))\n",
    "    for episode in movie_containers:\n",
    "        # title\n",
    "        title = episode.strong.text\n",
    "        titles.append(title)\n",
    "        # rating\n",
    "        rating = float(episode.find('span', class_ = 'ipl-rating-star__rating').text)\n",
    "        ratings.append(rating)\n",
    "        # vote\n",
    "        vote=episode.find('span', class_ = 'ipl-rating-star__total-votes').text\n",
    "        vote=int(vote.replace('(', '').replace(')','').replace(',',''))\n",
    "        votes.append(vote)\n",
    "        # season\n",
    "        ep_season.append(season)"
   ]
  },
  {
   "cell_type": "markdown",
   "metadata": {},
   "source": [
    "### Data Analysis"
   ]
  },
  {
   "cell_type": "code",
   "execution_count": 11,
   "metadata": {
    "collapsed": true
   },
   "outputs": [],
   "source": [
    "import pandas as pd\n",
    "df = pd.DataFrame({'Season': ep_season,\n",
    "                  'Title': titles,\n",
    "                   'Rating': ratings,\n",
    "                   '# Votes': votes\n",
    "                  })"
   ]
  },
  {
   "cell_type": "code",
   "execution_count": 12,
   "metadata": {
    "collapsed": false
   },
   "outputs": [
    {
     "name": "stdout",
     "output_type": "stream",
     "text": [
      "<class 'pandas.core.frame.DataFrame'>\n",
      "RangeIndex: 73 entries, 0 to 72\n",
      "Data columns (total 4 columns):\n",
      "# Votes    73 non-null int64\n",
      "Rating     73 non-null float64\n",
      "Season     73 non-null int64\n",
      "Title      73 non-null object\n",
      "dtypes: float64(1), int64(2), object(1)\n",
      "memory usage: 2.4+ KB\n",
      "None\n"
     ]
    },
    {
     "data": {
      "text/html": [
       "<div>\n",
       "<table border=\"1\" class=\"dataframe\">\n",
       "  <thead>\n",
       "    <tr style=\"text-align: right;\">\n",
       "      <th></th>\n",
       "      <th># Votes</th>\n",
       "      <th>Rating</th>\n",
       "      <th>Season</th>\n",
       "      <th>Title</th>\n",
       "    </tr>\n",
       "  </thead>\n",
       "  <tbody>\n",
       "    <tr>\n",
       "      <th>0</th>\n",
       "      <td>35640</td>\n",
       "      <td>9.1</td>\n",
       "      <td>1</td>\n",
       "      <td>Winter Is Coming</td>\n",
       "    </tr>\n",
       "    <tr>\n",
       "      <th>1</th>\n",
       "      <td>26992</td>\n",
       "      <td>8.8</td>\n",
       "      <td>1</td>\n",
       "      <td>The Kingsroad</td>\n",
       "    </tr>\n",
       "    <tr>\n",
       "      <th>2</th>\n",
       "      <td>25497</td>\n",
       "      <td>8.7</td>\n",
       "      <td>1</td>\n",
       "      <td>Lord Snow</td>\n",
       "    </tr>\n",
       "    <tr>\n",
       "      <th>3</th>\n",
       "      <td>24152</td>\n",
       "      <td>8.8</td>\n",
       "      <td>1</td>\n",
       "      <td>Cripples, Bastards, and Broken Things</td>\n",
       "    </tr>\n",
       "    <tr>\n",
       "      <th>4</th>\n",
       "      <td>25197</td>\n",
       "      <td>9.1</td>\n",
       "      <td>1</td>\n",
       "      <td>The Wolf and the Lion</td>\n",
       "    </tr>\n",
       "    <tr>\n",
       "      <th>5</th>\n",
       "      <td>24936</td>\n",
       "      <td>9.2</td>\n",
       "      <td>1</td>\n",
       "      <td>A Golden Crown</td>\n",
       "    </tr>\n",
       "    <tr>\n",
       "      <th>6</th>\n",
       "      <td>25445</td>\n",
       "      <td>9.3</td>\n",
       "      <td>1</td>\n",
       "      <td>You Win or You Die</td>\n",
       "    </tr>\n",
       "    <tr>\n",
       "      <th>7</th>\n",
       "      <td>23570</td>\n",
       "      <td>9.1</td>\n",
       "      <td>1</td>\n",
       "      <td>The Pointy End</td>\n",
       "    </tr>\n",
       "    <tr>\n",
       "      <th>8</th>\n",
       "      <td>33421</td>\n",
       "      <td>9.6</td>\n",
       "      <td>1</td>\n",
       "      <td>Baelor</td>\n",
       "    </tr>\n",
       "    <tr>\n",
       "      <th>9</th>\n",
       "      <td>29324</td>\n",
       "      <td>9.5</td>\n",
       "      <td>1</td>\n",
       "      <td>Fire and Blood</td>\n",
       "    </tr>\n",
       "    <tr>\n",
       "      <th>10</th>\n",
       "      <td>22912</td>\n",
       "      <td>8.9</td>\n",
       "      <td>2</td>\n",
       "      <td>The North Remembers</td>\n",
       "    </tr>\n",
       "    <tr>\n",
       "      <th>11</th>\n",
       "      <td>21630</td>\n",
       "      <td>8.6</td>\n",
       "      <td>2</td>\n",
       "      <td>The Night Lands</td>\n",
       "    </tr>\n",
       "    <tr>\n",
       "      <th>12</th>\n",
       "      <td>21383</td>\n",
       "      <td>8.9</td>\n",
       "      <td>2</td>\n",
       "      <td>What Is Dead May Never Die</td>\n",
       "    </tr>\n",
       "    <tr>\n",
       "      <th>13</th>\n",
       "      <td>20648</td>\n",
       "      <td>8.9</td>\n",
       "      <td>2</td>\n",
       "      <td>Garden of Bones</td>\n",
       "    </tr>\n",
       "    <tr>\n",
       "      <th>14</th>\n",
       "      <td>20815</td>\n",
       "      <td>8.9</td>\n",
       "      <td>2</td>\n",
       "      <td>The Ghost of Harrenhal</td>\n",
       "    </tr>\n",
       "    <tr>\n",
       "      <th>15</th>\n",
       "      <td>21809</td>\n",
       "      <td>9.1</td>\n",
       "      <td>2</td>\n",
       "      <td>The Old Gods and the New</td>\n",
       "    </tr>\n",
       "    <tr>\n",
       "      <th>16</th>\n",
       "      <td>21227</td>\n",
       "      <td>9.0</td>\n",
       "      <td>2</td>\n",
       "      <td>A Man Without Honor</td>\n",
       "    </tr>\n",
       "    <tr>\n",
       "      <th>17</th>\n",
       "      <td>20956</td>\n",
       "      <td>8.9</td>\n",
       "      <td>2</td>\n",
       "      <td>The Prince of Winterfell</td>\n",
       "    </tr>\n",
       "    <tr>\n",
       "      <th>18</th>\n",
       "      <td>36897</td>\n",
       "      <td>9.7</td>\n",
       "      <td>2</td>\n",
       "      <td>Blackwater</td>\n",
       "    </tr>\n",
       "    <tr>\n",
       "      <th>19</th>\n",
       "      <td>26057</td>\n",
       "      <td>9.5</td>\n",
       "      <td>2</td>\n",
       "      <td>Valar Morghulis</td>\n",
       "    </tr>\n",
       "    <tr>\n",
       "      <th>20</th>\n",
       "      <td>22995</td>\n",
       "      <td>8.9</td>\n",
       "      <td>3</td>\n",
       "      <td>Valar Dohaeris</td>\n",
       "    </tr>\n",
       "    <tr>\n",
       "      <th>21</th>\n",
       "      <td>20717</td>\n",
       "      <td>8.7</td>\n",
       "      <td>3</td>\n",
       "      <td>Dark Wings, Dark Words</td>\n",
       "    </tr>\n",
       "    <tr>\n",
       "      <th>22</th>\n",
       "      <td>20897</td>\n",
       "      <td>8.9</td>\n",
       "      <td>3</td>\n",
       "      <td>Walk of Punishment</td>\n",
       "    </tr>\n",
       "    <tr>\n",
       "      <th>23</th>\n",
       "      <td>28738</td>\n",
       "      <td>9.6</td>\n",
       "      <td>3</td>\n",
       "      <td>And Now His Watch Is Ended</td>\n",
       "    </tr>\n",
       "    <tr>\n",
       "      <th>24</th>\n",
       "      <td>21290</td>\n",
       "      <td>9.1</td>\n",
       "      <td>3</td>\n",
       "      <td>Kissed by Fire</td>\n",
       "    </tr>\n",
       "    <tr>\n",
       "      <th>25</th>\n",
       "      <td>21157</td>\n",
       "      <td>8.9</td>\n",
       "      <td>3</td>\n",
       "      <td>The Climb</td>\n",
       "    </tr>\n",
       "    <tr>\n",
       "      <th>26</th>\n",
       "      <td>20406</td>\n",
       "      <td>8.8</td>\n",
       "      <td>3</td>\n",
       "      <td>The Bear and the Maiden Fair</td>\n",
       "    </tr>\n",
       "    <tr>\n",
       "      <th>27</th>\n",
       "      <td>20999</td>\n",
       "      <td>9.1</td>\n",
       "      <td>3</td>\n",
       "      <td>Second Sons</td>\n",
       "    </tr>\n",
       "    <tr>\n",
       "      <th>28</th>\n",
       "      <td>81405</td>\n",
       "      <td>9.9</td>\n",
       "      <td>3</td>\n",
       "      <td>The Rains of Castamere</td>\n",
       "    </tr>\n",
       "    <tr>\n",
       "      <th>29</th>\n",
       "      <td>23833</td>\n",
       "      <td>9.2</td>\n",
       "      <td>3</td>\n",
       "      <td>Mhysa</td>\n",
       "    </tr>\n",
       "    <tr>\n",
       "      <th>...</th>\n",
       "      <td>...</td>\n",
       "      <td>...</td>\n",
       "      <td>...</td>\n",
       "      <td>...</td>\n",
       "    </tr>\n",
       "    <tr>\n",
       "      <th>43</th>\n",
       "      <td>21102</td>\n",
       "      <td>8.8</td>\n",
       "      <td>5</td>\n",
       "      <td>Sons of the Harpy</td>\n",
       "    </tr>\n",
       "    <tr>\n",
       "      <th>44</th>\n",
       "      <td>21358</td>\n",
       "      <td>8.7</td>\n",
       "      <td>5</td>\n",
       "      <td>Kill the Boy</td>\n",
       "    </tr>\n",
       "    <tr>\n",
       "      <th>45</th>\n",
       "      <td>24316</td>\n",
       "      <td>8.1</td>\n",
       "      <td>5</td>\n",
       "      <td>Unbowed, Unbent, Unbroken</td>\n",
       "    </tr>\n",
       "    <tr>\n",
       "      <th>46</th>\n",
       "      <td>23486</td>\n",
       "      <td>9.1</td>\n",
       "      <td>5</td>\n",
       "      <td>The Gift</td>\n",
       "    </tr>\n",
       "    <tr>\n",
       "      <th>47</th>\n",
       "      <td>82508</td>\n",
       "      <td>9.9</td>\n",
       "      <td>5</td>\n",
       "      <td>Hardhome</td>\n",
       "    </tr>\n",
       "    <tr>\n",
       "      <th>48</th>\n",
       "      <td>35838</td>\n",
       "      <td>9.5</td>\n",
       "      <td>5</td>\n",
       "      <td>The Dance of Dragons</td>\n",
       "    </tr>\n",
       "    <tr>\n",
       "      <th>49</th>\n",
       "      <td>34785</td>\n",
       "      <td>9.1</td>\n",
       "      <td>5</td>\n",
       "      <td>Mother's Mercy</td>\n",
       "    </tr>\n",
       "    <tr>\n",
       "      <th>50</th>\n",
       "      <td>33818</td>\n",
       "      <td>8.6</td>\n",
       "      <td>6</td>\n",
       "      <td>The Red Woman</td>\n",
       "    </tr>\n",
       "    <tr>\n",
       "      <th>51</th>\n",
       "      <td>40109</td>\n",
       "      <td>9.4</td>\n",
       "      <td>6</td>\n",
       "      <td>Home</td>\n",
       "    </tr>\n",
       "    <tr>\n",
       "      <th>52</th>\n",
       "      <td>28113</td>\n",
       "      <td>8.8</td>\n",
       "      <td>6</td>\n",
       "      <td>Oathbreaker</td>\n",
       "    </tr>\n",
       "    <tr>\n",
       "      <th>53</th>\n",
       "      <td>30293</td>\n",
       "      <td>9.2</td>\n",
       "      <td>6</td>\n",
       "      <td>Book of the Stranger</td>\n",
       "    </tr>\n",
       "    <tr>\n",
       "      <th>54</th>\n",
       "      <td>60382</td>\n",
       "      <td>9.7</td>\n",
       "      <td>6</td>\n",
       "      <td>The Door</td>\n",
       "    </tr>\n",
       "    <tr>\n",
       "      <th>55</th>\n",
       "      <td>27901</td>\n",
       "      <td>8.5</td>\n",
       "      <td>6</td>\n",
       "      <td>Blood of My Blood</td>\n",
       "    </tr>\n",
       "    <tr>\n",
       "      <th>56</th>\n",
       "      <td>27049</td>\n",
       "      <td>8.7</td>\n",
       "      <td>6</td>\n",
       "      <td>The Broken Man</td>\n",
       "    </tr>\n",
       "    <tr>\n",
       "      <th>57</th>\n",
       "      <td>31000</td>\n",
       "      <td>8.5</td>\n",
       "      <td>6</td>\n",
       "      <td>No One</td>\n",
       "    </tr>\n",
       "    <tr>\n",
       "      <th>58</th>\n",
       "      <td>177994</td>\n",
       "      <td>9.9</td>\n",
       "      <td>6</td>\n",
       "      <td>Battle of the Bastards</td>\n",
       "    </tr>\n",
       "    <tr>\n",
       "      <th>59</th>\n",
       "      <td>122915</td>\n",
       "      <td>9.9</td>\n",
       "      <td>6</td>\n",
       "      <td>The Winds of Winter</td>\n",
       "    </tr>\n",
       "    <tr>\n",
       "      <th>60</th>\n",
       "      <td>43687</td>\n",
       "      <td>8.7</td>\n",
       "      <td>7</td>\n",
       "      <td>Dragonstone</td>\n",
       "    </tr>\n",
       "    <tr>\n",
       "      <th>61</th>\n",
       "      <td>37421</td>\n",
       "      <td>9.0</td>\n",
       "      <td>7</td>\n",
       "      <td>Stormborn</td>\n",
       "    </tr>\n",
       "    <tr>\n",
       "      <th>62</th>\n",
       "      <td>39055</td>\n",
       "      <td>9.3</td>\n",
       "      <td>7</td>\n",
       "      <td>The Queen's Justice</td>\n",
       "    </tr>\n",
       "    <tr>\n",
       "      <th>63</th>\n",
       "      <td>75147</td>\n",
       "      <td>9.8</td>\n",
       "      <td>7</td>\n",
       "      <td>The Spoils of War</td>\n",
       "    </tr>\n",
       "    <tr>\n",
       "      <th>64</th>\n",
       "      <td>37105</td>\n",
       "      <td>8.9</td>\n",
       "      <td>7</td>\n",
       "      <td>Eastwatch</td>\n",
       "    </tr>\n",
       "    <tr>\n",
       "      <th>65</th>\n",
       "      <td>54570</td>\n",
       "      <td>9.1</td>\n",
       "      <td>7</td>\n",
       "      <td>Beyond the Wall</td>\n",
       "    </tr>\n",
       "    <tr>\n",
       "      <th>66</th>\n",
       "      <td>54020</td>\n",
       "      <td>9.5</td>\n",
       "      <td>7</td>\n",
       "      <td>The Dragon and the Wolf</td>\n",
       "    </tr>\n",
       "    <tr>\n",
       "      <th>67</th>\n",
       "      <td>110034</td>\n",
       "      <td>7.7</td>\n",
       "      <td>8</td>\n",
       "      <td>Winterfell</td>\n",
       "    </tr>\n",
       "    <tr>\n",
       "      <th>68</th>\n",
       "      <td>107667</td>\n",
       "      <td>8.0</td>\n",
       "      <td>8</td>\n",
       "      <td>A Knight of the Seven Kingdoms</td>\n",
       "    </tr>\n",
       "    <tr>\n",
       "      <th>69</th>\n",
       "      <td>185809</td>\n",
       "      <td>7.6</td>\n",
       "      <td>8</td>\n",
       "      <td>The Long Night</td>\n",
       "    </tr>\n",
       "    <tr>\n",
       "      <th>70</th>\n",
       "      <td>139226</td>\n",
       "      <td>5.6</td>\n",
       "      <td>8</td>\n",
       "      <td>The Last of the Starks</td>\n",
       "    </tr>\n",
       "    <tr>\n",
       "      <th>71</th>\n",
       "      <td>161760</td>\n",
       "      <td>6.2</td>\n",
       "      <td>8</td>\n",
       "      <td>The Bells</td>\n",
       "    </tr>\n",
       "    <tr>\n",
       "      <th>72</th>\n",
       "      <td>190229</td>\n",
       "      <td>4.3</td>\n",
       "      <td>8</td>\n",
       "      <td>The Iron Throne</td>\n",
       "    </tr>\n",
       "  </tbody>\n",
       "</table>\n",
       "<p>73 rows × 4 columns</p>\n",
       "</div>"
      ],
      "text/plain": [
       "    # Votes  Rating  Season                                  Title\n",
       "0     35640     9.1       1                       Winter Is Coming\n",
       "1     26992     8.8       1                          The Kingsroad\n",
       "2     25497     8.7       1                              Lord Snow\n",
       "3     24152     8.8       1  Cripples, Bastards, and Broken Things\n",
       "4     25197     9.1       1                  The Wolf and the Lion\n",
       "5     24936     9.2       1                         A Golden Crown\n",
       "6     25445     9.3       1                     You Win or You Die\n",
       "7     23570     9.1       1                         The Pointy End\n",
       "8     33421     9.6       1                                 Baelor\n",
       "9     29324     9.5       1                         Fire and Blood\n",
       "10    22912     8.9       2                    The North Remembers\n",
       "11    21630     8.6       2                        The Night Lands\n",
       "12    21383     8.9       2             What Is Dead May Never Die\n",
       "13    20648     8.9       2                        Garden of Bones\n",
       "14    20815     8.9       2                 The Ghost of Harrenhal\n",
       "15    21809     9.1       2               The Old Gods and the New\n",
       "16    21227     9.0       2                    A Man Without Honor\n",
       "17    20956     8.9       2               The Prince of Winterfell\n",
       "18    36897     9.7       2                             Blackwater\n",
       "19    26057     9.5       2                        Valar Morghulis\n",
       "20    22995     8.9       3                         Valar Dohaeris\n",
       "21    20717     8.7       3                 Dark Wings, Dark Words\n",
       "22    20897     8.9       3                     Walk of Punishment\n",
       "23    28738     9.6       3             And Now His Watch Is Ended\n",
       "24    21290     9.1       3                         Kissed by Fire\n",
       "25    21157     8.9       3                              The Climb\n",
       "26    20406     8.8       3           The Bear and the Maiden Fair\n",
       "27    20999     9.1       3                            Second Sons\n",
       "28    81405     9.9       3                 The Rains of Castamere\n",
       "29    23833     9.2       3                                  Mhysa\n",
       "..      ...     ...     ...                                    ...\n",
       "43    21102     8.8       5                      Sons of the Harpy\n",
       "44    21358     8.7       5                           Kill the Boy\n",
       "45    24316     8.1       5              Unbowed, Unbent, Unbroken\n",
       "46    23486     9.1       5                               The Gift\n",
       "47    82508     9.9       5                               Hardhome\n",
       "48    35838     9.5       5                   The Dance of Dragons\n",
       "49    34785     9.1       5                         Mother's Mercy\n",
       "50    33818     8.6       6                          The Red Woman\n",
       "51    40109     9.4       6                                   Home\n",
       "52    28113     8.8       6                            Oathbreaker\n",
       "53    30293     9.2       6                   Book of the Stranger\n",
       "54    60382     9.7       6                               The Door\n",
       "55    27901     8.5       6                      Blood of My Blood\n",
       "56    27049     8.7       6                         The Broken Man\n",
       "57    31000     8.5       6                                 No One\n",
       "58   177994     9.9       6                 Battle of the Bastards\n",
       "59   122915     9.9       6                    The Winds of Winter\n",
       "60    43687     8.7       7                            Dragonstone\n",
       "61    37421     9.0       7                              Stormborn\n",
       "62    39055     9.3       7                    The Queen's Justice\n",
       "63    75147     9.8       7                      The Spoils of War\n",
       "64    37105     8.9       7                              Eastwatch\n",
       "65    54570     9.1       7                        Beyond the Wall\n",
       "66    54020     9.5       7                The Dragon and the Wolf\n",
       "67   110034     7.7       8                             Winterfell\n",
       "68   107667     8.0       8         A Knight of the Seven Kingdoms\n",
       "69   185809     7.6       8                         The Long Night\n",
       "70   139226     5.6       8                 The Last of the Starks\n",
       "71   161760     6.2       8                              The Bells\n",
       "72   190229     4.3       8                        The Iron Throne\n",
       "\n",
       "[73 rows x 4 columns]"
      ]
     },
     "execution_count": 12,
     "metadata": {},
     "output_type": "execute_result"
    }
   ],
   "source": [
    "print(df.info())\n",
    "df"
   ]
  },
  {
   "cell_type": "markdown",
   "metadata": {},
   "source": [
    "### Plot with GoT episode ratings and number of votes on IMDB, in one graph"
   ]
  },
  {
   "cell_type": "code",
   "execution_count": 15,
   "metadata": {
    "collapsed": false,
    "scrolled": true
   },
   "outputs": [
    {
     "data": {
      "image/png": "[encoded data removed]",
      "text/plain": [
       "<matplotlib.figure.Figure at 0x1212d1fd0>"
      ]
     },
     "metadata": {},
     "output_type": "display_data"
    }
   ],
   "source": [
    "import numpy as np\n",
    "import matplotlib.pyplot as plt\n",
    "num_ep = [i+1 for i in range(df.shape[0])]\n",
    "fig, ax1 = plt.subplots()\n",
    "\n",
    "color = 'tab:red'\n",
    "ax1.set_xlabel('Episodes (Season 1 -> 8)', fontsize = 18)\n",
    "ax1.set_ylabel('rating', color=color, fontsize=18)\n",
    "plt.xticks(num_ep, titles, rotation=90, fontsize=12)\n",
    "ax1.scatter(num_ep, ratings, color=color)\n",
    "ax1.tick_params(axis='y', labelcolor=color)\n",
    "\n",
    "ax2 = ax1.twinx()  # instantiate a second axes that shares the same x-axis\n",
    "\n",
    "color = 'tab:blue'\n",
    "ax2.set_ylabel('# votes', color=color, fontsize=18)  # we already handled the x-label with ax1\n",
    "ax2.scatter(num_ep, votes, color=color)\n",
    "ax2.tick_params(axis='y', labelcolor=color)\n",
    "\n",
    "#fig.tight_layout()  # otherwise the right y-label is slightly clipped\n",
    "fig.set_size_inches(18.5, 6)\n",
    "plt.title('Ratings and # Votes of Game of Throne Episodes on IMDB', fontsize=20)\n",
    "plt.show()"
   ]
  },
  {
   "cell_type": "markdown",
   "metadata": {},
   "source": [
    "#### Comments of the graph:\n",
    "* Red dots stand for episode ratings --- ratings have been generally high in earlier seasons, but plummeted in Season 8.\n",
    "* Blue dots stand for number of votes for each episode --- Season 8 has attracted highest number of voters. \n",
    "* One can not make a simple conclusion that the more the voters, the lower the rating, because in earlier seasons the episodes with most voters are also the ones with highest ratings (e.g., the Rains of Castamere, Hardhome, Battle of the Bastards, the Winds of Winter)"
   ]
  },
  {
   "cell_type": "code",
   "execution_count": null,
   "metadata": {
    "collapsed": true
   },
   "outputs": [],
   "source": []
  }
 ],
 "metadata": {
  "kernelspec": {
   "display_name": "Python 3",
   "language": "python",
   "name": "python3"
  },
  "language_info": {
   "codemirror_mode": {
    "name": "ipython",
    "version": 3
   },
   "file_extension": ".py",
   "mimetype": "text/x-python",
   "name": "python",
   "nbconvert_exporter": "python",
   "pygments_lexer": "ipython3",
   "version": "3.6.0"
  }
 },
 "nbformat": 4,
 "nbformat_minor": 2
}
